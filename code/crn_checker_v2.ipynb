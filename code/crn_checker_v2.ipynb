{
 "cells": [
  {
   "cell_type": "code",
   "execution_count": null,
   "metadata": {},
   "outputs": [],
   "source": [
    "import pandas as pd\n",
    "import numpy as np\n",
    "import time\n",
    "import lxml\n",
    "from concurrent.futures.thread import ThreadPoolExecutor\n",
    "import asyncio\n",
    "import nest_asyncio\n",
    "nest_asyncio.apply()\n",
    "\n",
    "from selenium.webdriver import Chrome\n",
    "from selenium.webdriver.common.keys import Keys\n",
    "from selenium.webdriver.common.by import By\n",
    "from selenium.webdriver.support.ui import WebDriverWait\n",
    "from selenium.webdriver.support import expected_conditions as EC\n",
    "from selenium.common import exceptions as e\n",
    "\n",
    "from selenium.webdriver.chrome.options import Options  "
   ]
  },
  {
   "cell_type": "code",
   "execution_count": null,
   "metadata": {},
   "outputs": [],
   "source": [
    "# sample crns\n",
    "crns = ['1108134825', '1108134827', '1108124826', '1108134565', '1108134866']"
   ]
  },
  {
   "cell_type": "code",
   "execution_count": null,
   "metadata": {},
   "outputs": [],
   "source": [
    "def webdriver_init(dw= '../webdriver/chromedriver'):\n",
    "    chrome_options = Options()  \n",
    "    chrome_options.add_argument(\"--headless\")  \n",
    "    return Chrome(dw, options=chrome_options)"
   ]
  },
  {
   "cell_type": "code",
   "execution_count": null,
   "metadata": {},
   "outputs": [],
   "source": [
    "def base_site(browser, delay= 5, url= 'https://teht.hometax.go.kr/websquare/websquare.html?w2xPath=/ui/ab/a/a/UTEABAAA13.xml'):\n",
    "    \n",
    "    browser.get(url)\n",
    "    browser.implicitly_wait(delay)"
   ]
  },
  {
   "cell_type": "code",
   "execution_count": null,
   "metadata": {},
   "outputs": [],
   "source": [
    "def crn_check(browser, crn, delay= 60):\n",
    "    result = [crn]\n",
    "    \n",
    "    browser.find_element_by_id('bsno').send_keys(crn)\n",
    "    browser.implicitly_wait(0.1)\n",
    "    browser.find_element_by_class_name('w2trigger').click()\n",
    "    \n",
    "    try:\n",
    "        WebDriverWait(browser, delay).until(EC.presence_of_element_located((By.ID, 'grid2_cell_0_0')))\n",
    "    except e.TimeoutException:\n",
    "        pass\n",
    "#         print('crn_check: {}'.format(e))\n",
    "    \n",
    "    table = browser.find_elements_by_xpath((\"//tr[@id='row2']/td/nobr\"));\n",
    "    if len(table) > 0:\n",
    "        for i in table:\n",
    "            result.append(i.text)\n",
    "    else:\n",
    "        result += ['', '', '']\n",
    "    return result"
   ]
  },
  {
   "cell_type": "code",
   "execution_count": null,
   "metadata": {},
   "outputs": [],
   "source": [
    "def dataset(data):\n",
    "    df = pd.DataFrame(data, columns=['input','crn','비고','조회일'])\n",
    "    return df"
   ]
  },
  {
   "cell_type": "code",
   "execution_count": null,
   "metadata": {},
   "outputs": [],
   "source": [
    "def save_csv(df):\n",
    "    now = time.localtime()\n",
    "    now = time.strftime(\"%Y%m%d%H%M%S\", now)\n",
    "    file_name = '../data/result/' + now + '.csv'\n",
    "    df.to_csv(file_name,'\\t',mode='w')"
   ]
  },
  {
   "cell_type": "code",
   "execution_count": null,
   "metadata": {},
   "outputs": [],
   "source": [
    "def execution_all(crn):   \n",
    "    browser = webdriver_init()\n",
    "    base_site(browser, 0.1)\n",
    "    \n",
    "    result = crn_check(browser, crn)\n",
    "    crns_result.append(result)\n",
    "    \n",
    "    browser.close()\n",
    "#     print('finish: {}'.format(crn))"
   ]
  },
  {
   "cell_type": "code",
   "execution_count": null,
   "metadata": {},
   "outputs": [],
   "source": [
    "def run_crn_checker_async(thread_workers_count, crns):\n",
    "    global crns_result\n",
    "    crns_result = []\n",
    "    \n",
    "    loop = asyncio.get_running_loop()\n",
    "    executor = ThreadPoolExecutor(thread_workers_count)\n",
    "    \n",
    "    for crn in crns:\n",
    "        loop.run_in_executor(executor, execution_all, crn)\n",
    "    \n",
    "    loop.run_until_complete(asyncio.gather(*asyncio.all_tasks(loop)))    "
   ]
  }
 ],
 "metadata": {
  "kernelspec": {
   "display_name": "Python 3",
   "language": "python",
   "name": "python3"
  },
  "language_info": {
   "codemirror_mode": {
    "name": "ipython",
    "version": 3
   },
   "file_extension": ".py",
   "mimetype": "text/x-python",
   "name": "python",
   "nbconvert_exporter": "python",
   "pygments_lexer": "ipython3",
   "version": "3.7.3"
  }
 },
 "nbformat": 4,
 "nbformat_minor": 4
}
