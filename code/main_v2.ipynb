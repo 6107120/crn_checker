{
 "cells": [
  {
   "cell_type": "code",
   "execution_count": null,
   "metadata": {},
   "outputs": [],
   "source": [
    "import os\n",
    "import glob"
   ]
  },
  {
   "cell_type": "code",
   "execution_count": null,
   "metadata": {},
   "outputs": [],
   "source": [
    "# init model\n",
    "%run 'crn_checker_v2.ipynb'"
   ]
  },
  {
   "cell_type": "code",
   "execution_count": null,
   "metadata": {},
   "outputs": [],
   "source": [
    "file_name = '/20200208004549.csv'\n",
    "dtypes = {'사업자번호': str}\n",
    "df = pd.read_csv('../data/input' + file_name, sep= '\\t', dtype= dtypes, index_col=0)"
   ]
  },
  {
   "cell_type": "code",
   "execution_count": null,
   "metadata": {},
   "outputs": [],
   "source": [
    "# get crns\n",
    "# crns = ['1108134825', '1309036208']\n",
    "crns = df['사업자번호'].to_list()\n",
    "len(crns)"
   ]
  },
  {
   "cell_type": "code",
   "execution_count": null,
   "metadata": {},
   "outputs": [],
   "source": [
    "# run model\n",
    "run_crn_checker_async(10, crns)"
   ]
  },
  {
   "cell_type": "code",
   "execution_count": null,
   "metadata": {},
   "outputs": [],
   "source": [
    "#check result\n",
    "print('crns_result: {}'.format(len(crns_result)))\n",
    "print('crns: {}'.format(len(crns)))\n",
    "len(crns_result) == len(crns)"
   ]
  },
  {
   "cell_type": "code",
   "execution_count": null,
   "metadata": {},
   "outputs": [],
   "source": [
    "#save df\n",
    "df = dataset(crns_result)\n",
    "save_csv(df)"
   ]
  },
  {
   "cell_type": "code",
   "execution_count": null,
   "metadata": {},
   "outputs": [],
   "source": [
    "# get result\n",
    "folder_path = '../data/result'\n",
    "csv_file_list = glob.glob(folder_path + '/*.csv')\n",
    "file_path = csv_file_list[-1]\n",
    "\n",
    "df = pd.read_csv(file_path, sep= '\\t',index_col=0)\n",
    "\n",
    "print('csv_file_list: ',csv_file_list)\n",
    "print('file_path: ',file_path)"
   ]
  },
  {
   "cell_type": "code",
   "execution_count": null,
   "metadata": {},
   "outputs": [],
   "source": [
    "# see result\n",
    "df"
   ]
  },
  {
   "cell_type": "code",
   "execution_count": null,
   "metadata": {},
   "outputs": [],
   "source": []
  }
 ],
 "metadata": {
  "kernelspec": {
   "display_name": "Python 3",
   "language": "python",
   "name": "python3"
  },
  "language_info": {
   "codemirror_mode": {
    "name": "ipython",
    "version": 3
   },
   "file_extension": ".py",
   "mimetype": "text/x-python",
   "name": "python",
   "nbconvert_exporter": "python",
   "pygments_lexer": "ipython3",
   "version": "3.7.3"
  }
 },
 "nbformat": 4,
 "nbformat_minor": 4
}
